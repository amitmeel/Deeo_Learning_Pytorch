{
  "nbformat": 4,
  "nbformat_minor": 0,
  "metadata": {
    "colab": {
      "name": "MNIST_ANN_Pytorch.ipynb",
      "version": "0.3.2",
      "provenance": [],
      "collapsed_sections": []
    },
    "kernelspec": {
      "name": "python3",
      "display_name": "Python 3"
    },
    "accelerator": "GPU"
  },
  "cells": [
    {
      "cell_type": "code",
      "metadata": {
        "id": "u3hDkBzAr8jt",
        "colab_type": "code",
        "colab": {
          "base_uri": "https://localhost:8080/",
          "height": 238
        },
        "outputId": "784dfe98-9374-45d9-cd72-9a3d4e230e9c"
      },
      "source": [
        "# memory footprint support libraries/code\n",
        "!ln -sf /opt/bin/nvidia-smi /usr/bin/nvidia-smi\n",
        "!pip install gputil\n",
        "!pip install psutil\n",
        "!pip install humanize\n",
        "import psutil\n",
        "import humanize\n",
        "import os\n",
        "import GPUtil as GPU\n",
        "GPUs = GPU.getGPUs()\n",
        "# XXX: only one GPU on Colab and isn’t guaranteed\n",
        "gpu = GPUs[0]\n",
        "def printm():\n",
        " process = psutil.Process(os.getpid())\n",
        " print(\"Gen RAM Free: \" + humanize.naturalsize( psutil.virtual_memory().available ), \" | Proc size: \" + humanize.naturalsize( process.memory_info().rss))\n",
        " print(\"GPU RAM Free: {0:.0f}MB | Used: {1:.0f}MB | Util {2:3.0f}% | Total {3:.0f}MB\".format(gpu.memoryFree, gpu.memoryUsed, gpu.memoryUtil*100, gpu.memoryTotal))\n",
        "printm() "
      ],
      "execution_count": 1,
      "outputs": [
        {
          "output_type": "stream",
          "text": [
            "Collecting gputil\n",
            "  Downloading https://files.pythonhosted.org/packages/ed/0e/5c61eedde9f6c87713e89d794f01e378cfd9565847d4576fa627d758c554/GPUtil-1.4.0.tar.gz\n",
            "Building wheels for collected packages: gputil\n",
            "  Building wheel for gputil (setup.py) ... \u001b[?25l\u001b[?25hdone\n",
            "  Created wheel for gputil: filename=GPUtil-1.4.0-cp36-none-any.whl size=7410 sha256=c06aa6e4ab3eb8b5ff896740a6f81ad57aedc4220c399a3154683b0290b27511\n",
            "  Stored in directory: /root/.cache/pip/wheels/3d/77/07/80562de4bb0786e5ea186911a2c831fdd0018bda69beab71fd\n",
            "Successfully built gputil\n",
            "Installing collected packages: gputil\n",
            "Successfully installed gputil-1.4.0\n",
            "Requirement already satisfied: psutil in /usr/local/lib/python3.6/dist-packages (5.4.8)\n",
            "Requirement already satisfied: humanize in /usr/local/lib/python3.6/dist-packages (0.5.1)\n",
            "Gen RAM Free: 12.8 GB  | Proc size: 153.9 MB\n",
            "GPU RAM Free: 15079MB | Used: 0MB | Util   0% | Total 15079MB\n"
          ],
          "name": "stdout"
        }
      ]
    },
    {
      "cell_type": "code",
      "metadata": {
        "id": "eQwhcqAA0rhK",
        "colab_type": "code",
        "colab": {}
      },
      "source": [
        ""
      ],
      "execution_count": 0,
      "outputs": []
    },
    {
      "cell_type": "markdown",
      "metadata": {
        "id": "EhZSIMs50xRr",
        "colab_type": "text"
      },
      "source": [
        "# Multi-Layer Perceptron, MNIST\n",
        "---\n",
        "In this notebook, we will train an MLP to classify images from the [MNIST database](http://yann.lecun.com/exdb/mnist/) hand-written digit database.\n",
        "\n",
        "The process will be broken down into the following steps:\n",
        ">1. Load and visualize the data\n",
        "2. Define a neural network\n",
        "3. Train the model\n",
        "4. Evaluate the performance of our trained model on a test dataset!\n",
        "\n",
        "Before we begin, we have to import the necessary libraries for working with data and PyTorch."
      ]
    },
    {
      "cell_type": "code",
      "metadata": {
        "id": "Q-qNuZWg0yWd",
        "colab_type": "code",
        "colab": {}
      },
      "source": [
        "# import libraries\n",
        "import torch\n",
        "import numpy as np"
      ],
      "execution_count": 0,
      "outputs": []
    },
    {
      "cell_type": "markdown",
      "metadata": {
        "id": "6q-JUp8C1Kv0",
        "colab_type": "text"
      },
      "source": [
        "---\n",
        "## Load and Visualize the [Data](http://pytorch.org/docs/stable/torchvision/datasets.html)\n",
        "\n",
        "Downloading may take a few moments, and you should see your progress as the data is loading. You may also choose to change the `batch_size` if you want to load more data at a time.\n",
        "\n",
        "This cell will create DataLoaders for each of our datasets."
      ]
    },
    {
      "cell_type": "code",
      "metadata": {
        "id": "5JxwiloN1Lqd",
        "colab_type": "code",
        "colab": {
          "base_uri": "https://localhost:8080/",
          "height": 255
        },
        "outputId": "597f78dd-8e0f-4024-f03c-cff111b9e9cd"
      },
      "source": [
        "from torchvision import datasets\n",
        "from torchvision.transforms import transforms\n",
        "\n",
        "# number of subprocesses to use for data loading\n",
        "num_workers = 2\n",
        "# how many samples per batch to load\n",
        "batch_size = 20\n",
        "\n",
        "# convert data to torch.FloatTensor\n",
        "transform = transforms.ToTensor()\n",
        "\n",
        "# choose the training and test datasets\n",
        "train_data = datasets.MNIST(root='data', train=True,\n",
        "                                   download=True, transform=transform)\n",
        "test_data = datasets.MNIST(root='data', train=False,\n",
        "                                  download=True, transform=transform)\n",
        "\n",
        "# prepare data loaders\n",
        "train_loader = torch.utils.data.DataLoader(train_data, batch_size=batch_size,\n",
        "    num_workers=num_workers)\n",
        "test_loader = torch.utils.data.DataLoader(test_data, batch_size=batch_size, \n",
        "    num_workers=num_workers)"
      ],
      "execution_count": 4,
      "outputs": [
        {
          "output_type": "stream",
          "text": [
            "\r0it [00:00, ?it/s]"
          ],
          "name": "stderr"
        },
        {
          "output_type": "stream",
          "text": [
            "Downloading http://yann.lecun.com/exdb/mnist/train-images-idx3-ubyte.gz to data/MNIST/raw/train-images-idx3-ubyte.gz\n"
          ],
          "name": "stdout"
        },
        {
          "output_type": "stream",
          "text": [
            "9920512it [00:01, 8218912.78it/s]                            \n"
          ],
          "name": "stderr"
        },
        {
          "output_type": "stream",
          "text": [
            "Extracting data/MNIST/raw/train-images-idx3-ubyte.gz\n"
          ],
          "name": "stdout"
        },
        {
          "output_type": "stream",
          "text": [
            "  0%|          | 0/28881 [00:00<?, ?it/s]"
          ],
          "name": "stderr"
        },
        {
          "output_type": "stream",
          "text": [
            "Downloading http://yann.lecun.com/exdb/mnist/train-labels-idx1-ubyte.gz to data/MNIST/raw/train-labels-idx1-ubyte.gz\n"
          ],
          "name": "stdout"
        },
        {
          "output_type": "stream",
          "text": [
            "32768it [00:00, 125864.92it/s]           \n",
            "  0%|          | 0/1648877 [00:00<?, ?it/s]"
          ],
          "name": "stderr"
        },
        {
          "output_type": "stream",
          "text": [
            "Extracting data/MNIST/raw/train-labels-idx1-ubyte.gz\n",
            "Downloading http://yann.lecun.com/exdb/mnist/t10k-images-idx3-ubyte.gz to data/MNIST/raw/t10k-images-idx3-ubyte.gz\n"
          ],
          "name": "stdout"
        },
        {
          "output_type": "stream",
          "text": [
            "1654784it [00:00, 2055006.45it/s]                            \n",
            "0it [00:00, ?it/s]"
          ],
          "name": "stderr"
        },
        {
          "output_type": "stream",
          "text": [
            "Extracting data/MNIST/raw/t10k-images-idx3-ubyte.gz\n",
            "Downloading http://yann.lecun.com/exdb/mnist/t10k-labels-idx1-ubyte.gz to data/MNIST/raw/t10k-labels-idx1-ubyte.gz\n"
          ],
          "name": "stdout"
        },
        {
          "output_type": "stream",
          "text": [
            "8192it [00:00, 47111.57it/s]            \n"
          ],
          "name": "stderr"
        },
        {
          "output_type": "stream",
          "text": [
            "Extracting data/MNIST/raw/t10k-labels-idx1-ubyte.gz\n",
            "Processing...\n",
            "Done!\n"
          ],
          "name": "stdout"
        }
      ]
    },
    {
      "cell_type": "code",
      "metadata": {
        "id": "SCSvB1l31kKV",
        "colab_type": "code",
        "colab": {
          "base_uri": "https://localhost:8080/",
          "height": 288
        },
        "outputId": "ae6288b8-d343-4884-b1e7-d282499d381e"
      },
      "source": [
        "import matplotlib.pyplot as plt\n",
        "%matplotlib inline\n",
        "\n",
        "# obtain one batch of training images\n",
        "dataiter = iter(train_loader)\n",
        "images, labels = dataiter.next()\n",
        "images = images.numpy()\n",
        "# print(np.squeeze(images[0]))\n",
        "# plot the images in the batch, along with the corresponding labels\n",
        "fig = plt.figure(figsize=(25, 4))\n",
        "for idx in np.arange(20):\n",
        "    ax = fig.add_subplot(2, 20/2, idx+1, xticks=[], yticks=[])\n",
        "    ax.imshow(np.squeeze(images[idx]), cmap='gray')\n",
        "    # print out the correct label for each image\n",
        "    # .item() gets the value contained in a Tensor\n",
        "    ax.set_title(str(labels[idx].item()))"
      ],
      "execution_count": 9,
      "outputs": [
        {
          "output_type": "display_data",
          "data": {
            "image/png": "[encoded data removed]",
            "text/plain": [
              "<Figure size 1800x288 with 20 Axes>"
            ]
          },
          "metadata": {
            "tags": []
          }
        }
      ]
    },
    {
      "cell_type": "code",
      "metadata": {
        "id": "I0Qw_nhI2F2s",
        "colab_type": "code",
        "colab": {
          "base_uri": "https://localhost:8080/",
          "height": 704
        },
        "outputId": "0fd5c9f3-db19-41d3-d6aa-0177e2708d35"
      },
      "source": [
        "# view an image in more detail\n",
        "img = np.squeeze(images[2])\n",
        "\n",
        "fig = plt.figure(figsize = (12,12)) \n",
        "ax = fig.add_subplot(111)\n",
        "ax.imshow(img, cmap='gray')\n",
        "width, height = img.shape\n",
        "thresh = img.max()/2.5\n",
        "for x in range(width):\n",
        "    for y in range(height):\n",
        "        val = round(img[x][y],2) if img[x][y] !=0 else 0\n",
        "        ax.annotate(str(val), xy=(y,x),\n",
        "                    horizontalalignment='center',\n",
        "                    verticalalignment='center',\n",
        "                    color='white' if img[x][y]<thresh else 'black')"
      ],
      "execution_count": 12,
      "outputs": [
        {
          "output_type": "display_data",
          "data": {
            "image/png": "[encoded data removed]",
            "text/plain": [
              "<Figure size 864x864 with 1 Axes>"
            ]
          },
          "metadata": {
            "tags": []
          }
        }
      ]
    },
    {
      "cell_type": "code",
      "metadata": {
        "id": "kH_hFiNh2pX1",
        "colab_type": "code",
        "colab": {}
      },
      "source": [
        ""
      ],
      "execution_count": 0,
      "outputs": []
    },
    {
      "cell_type": "markdown",
      "metadata": {
        "id": "iAqw94pN3Voz",
        "colab_type": "text"
      },
      "source": [
        "## Define the Network [Architecture](http://pytorch.org/docs/stable/nn.html)\n",
        "\n",
        "The architecture will be responsible for seeing as input a 784-dim Tensor of pixel values for each image, and producing a Tensor of length 10 (our number of classes) that indicates the class scores for an input image. This particular example uses two hidden layers and dropout to avoid overfitting."
      ]
    },
    {
      "cell_type": "code",
      "metadata": {
        "id": "KOywEY_N3Wgp",
        "colab_type": "code",
        "colab": {
          "base_uri": "https://localhost:8080/",
          "height": 119
        },
        "outputId": "d068746f-45bc-4baf-c685-a3a40f61fca0"
      },
      "source": [
        "import torch.nn as nn\n",
        "import torch.nn.functional as F\n",
        "\n",
        "# Define the NN architecture\n",
        "class Network(nn.Module):\n",
        "  def __init__(self):\n",
        "    super(Network,self).__init__()\n",
        "    \n",
        "    self.fc1 = nn.Linear(28*28*1, 512)\n",
        "    self.fc2 = nn.Linear(512,512)\n",
        "    self.fc3 = nn.Linear(512,10)\n",
        "    \n",
        "    self.dropout = nn.Dropout(0.2)\n",
        "    \n",
        "  def forward(self, x):\n",
        "    \n",
        "    # flatten image input\n",
        "    x = x.view(-1, 28 * 28)\n",
        "    # add hidden layer, with relu activation function\n",
        "    x = F.relu(self.fc1(x))\n",
        "    # add dropout layer\n",
        "    x = self.dropout(x)\n",
        "    # add hidden layer, with relu activation function\n",
        "    x = F.relu(self.fc2(x))\n",
        "    # add dropout layer\n",
        "    x = self.dropout(x)\n",
        "    # add output layer\n",
        "    x = self.fc3(x)\n",
        "        \n",
        "    return x\n",
        "    \n",
        "    \n",
        "model = Network()\n",
        "print(model)"
      ],
      "execution_count": 13,
      "outputs": [
        {
          "output_type": "stream",
          "text": [
            "Network(\n",
            "  (fc1): Linear(in_features=784, out_features=512, bias=True)\n",
            "  (fc2): Linear(in_features=512, out_features=512, bias=True)\n",
            "  (fc3): Linear(in_features=512, out_features=10, bias=True)\n",
            "  (dropout): Dropout(p=0.2)\n",
            ")\n"
          ],
          "name": "stdout"
        }
      ]
    },
    {
      "cell_type": "markdown",
      "metadata": {
        "id": "RoLqfyLP59zW",
        "colab_type": "text"
      },
      "source": [
        "###  Specify [Loss Function](http://pytorch.org/docs/stable/nn.html#loss-functions) and [Optimizer](http://pytorch.org/docs/stable/optim.html)\n",
        "\n",
        "It's recommended that you use cross-entropy loss for classification. If you look at the documentation (linked above), you can see that PyTorch's cross entropy function applies a softmax funtion to the output layer *and* then calculates the log loss."
      ]
    },
    {
      "cell_type": "code",
      "metadata": {
        "id": "27Tx1jmR5_C9",
        "colab_type": "code",
        "colab": {}
      },
      "source": [
        "# specify loss function (categorical cross-entropy)\n",
        "criterion = nn.CrossEntropyLoss()\n",
        "\n",
        "# specify optimizer (stochastic gradient descent) and learning rate = 0.01\n",
        "optimizer = torch.optim.SGD(model.parameters(), lr=0.01)"
      ],
      "execution_count": 0,
      "outputs": []
    },
    {
      "cell_type": "markdown",
      "metadata": {
        "id": "4dXnGXer6TxC",
        "colab_type": "text"
      },
      "source": [
        "## Train the Network\n",
        "\n",
        "The steps for training/learning from a batch of data are described in the comments below:\n",
        "1. Clear the gradients of all optimized variables\n",
        "2. Forward pass: compute predicted outputs by passing inputs to the model\n",
        "3. Calculate the loss\n",
        "4. Backward pass: compute gradient of the loss with respect to model parameters\n",
        "5. Perform a single optimization step (parameter update)\n",
        "6. Update average training loss\n",
        "\n",
        "The following loop trains for 30 epochs; feel free to change this number. For now, we suggest somewhere between 20-50 epochs. As you train, take a look at how the values for the training loss decrease over time. We want it to decrease while also avoiding overfitting the training data. "
      ]
    },
    {
      "cell_type": "code",
      "metadata": {
        "id": "md_kU3IG6Ute",
        "colab_type": "code",
        "colab": {
          "base_uri": "https://localhost:8080/",
          "height": 884
        },
        "outputId": "d8bbdca8-cc03-4f8c-8862-389a468b6dff"
      },
      "source": [
        "# number of epochs to train the model\n",
        "n_epochs = 50\n",
        "\n",
        "# Use GPU if it's available\n",
        "device = torch.device(\"cuda\" if torch.cuda.is_available() else \"cpu\")\n",
        "print(device)\n",
        "\n",
        "model.to(device);\n",
        "\n",
        "model.train()  #preparing model for train\n",
        "\n",
        "for epoch in range(n_epochs):\n",
        "  # monitor train loss\n",
        "  train_loss = 0\n",
        "  \n",
        "  #===================================\n",
        "  #training model\n",
        "  #===================================\n",
        "  for images, labels in train_loader:\n",
        "    images = images.to(device)\n",
        "    labels = labels.to(device)\n",
        "    # clear gradient of all optimized variables\n",
        "    optimizer.zero_grad()\n",
        "    # forward pass: compute predicted outputs by passing inputs to the model\n",
        "    output = model(images)\n",
        "    # calculate the loss\n",
        "    loss = criterion(output, labels)\n",
        "    # backward pass: compute gradient of the loss with respect to model parameters\n",
        "    loss.backward()\n",
        "    # perform a single optimization step (parameter update)\n",
        "    optimizer.step()\n",
        "    \n",
        "    # update running training loss\n",
        "    train_loss += loss.item()*images.size(0)\n",
        "    \n",
        "  # print training statistics \n",
        "  # calculate average loss over an epoch\n",
        "  train_loss = train_loss/len(train_loader.dataset)\n",
        "\n",
        "  print('Epoch: {} \\tTraining Loss: {:.6f}'.format(\n",
        "        epoch+1, \n",
        "        train_loss\n",
        "        ))"
      ],
      "execution_count": 15,
      "outputs": [
        {
          "output_type": "stream",
          "text": [
            "cuda\n",
            "Epoch: 1 \tTraining Loss: 0.835958\n",
            "Epoch: 2 \tTraining Loss: 0.324303\n",
            "Epoch: 3 \tTraining Loss: 0.252759\n",
            "Epoch: 4 \tTraining Loss: 0.205609\n",
            "Epoch: 5 \tTraining Loss: 0.173351\n",
            "Epoch: 6 \tTraining Loss: 0.148828\n",
            "Epoch: 7 \tTraining Loss: 0.131457\n",
            "Epoch: 8 \tTraining Loss: 0.114886\n",
            "Epoch: 9 \tTraining Loss: 0.104025\n",
            "Epoch: 10 \tTraining Loss: 0.095703\n",
            "Epoch: 11 \tTraining Loss: 0.086626\n",
            "Epoch: 12 \tTraining Loss: 0.080103\n",
            "Epoch: 13 \tTraining Loss: 0.073755\n",
            "Epoch: 14 \tTraining Loss: 0.069496\n",
            "Epoch: 15 \tTraining Loss: 0.064537\n",
            "Epoch: 16 \tTraining Loss: 0.059093\n",
            "Epoch: 17 \tTraining Loss: 0.055763\n",
            "Epoch: 18 \tTraining Loss: 0.052922\n",
            "Epoch: 19 \tTraining Loss: 0.049346\n",
            "Epoch: 20 \tTraining Loss: 0.047040\n",
            "Epoch: 21 \tTraining Loss: 0.043739\n",
            "Epoch: 22 \tTraining Loss: 0.040831\n",
            "Epoch: 23 \tTraining Loss: 0.038250\n",
            "Epoch: 24 \tTraining Loss: 0.036670\n",
            "Epoch: 25 \tTraining Loss: 0.034074\n",
            "Epoch: 26 \tTraining Loss: 0.032824\n",
            "Epoch: 27 \tTraining Loss: 0.031212\n",
            "Epoch: 28 \tTraining Loss: 0.028816\n",
            "Epoch: 29 \tTraining Loss: 0.028395\n",
            "Epoch: 30 \tTraining Loss: 0.027262\n",
            "Epoch: 31 \tTraining Loss: 0.025780\n",
            "Epoch: 32 \tTraining Loss: 0.025566\n",
            "Epoch: 33 \tTraining Loss: 0.023869\n",
            "Epoch: 34 \tTraining Loss: 0.023636\n",
            "Epoch: 35 \tTraining Loss: 0.021001\n",
            "Epoch: 36 \tTraining Loss: 0.021044\n",
            "Epoch: 37 \tTraining Loss: 0.019405\n",
            "Epoch: 38 \tTraining Loss: 0.018487\n",
            "Epoch: 39 \tTraining Loss: 0.018725\n",
            "Epoch: 40 \tTraining Loss: 0.018345\n",
            "Epoch: 41 \tTraining Loss: 0.017492\n",
            "Epoch: 42 \tTraining Loss: 0.015756\n",
            "Epoch: 43 \tTraining Loss: 0.015593\n",
            "Epoch: 44 \tTraining Loss: 0.014168\n",
            "Epoch: 45 \tTraining Loss: 0.013798\n",
            "Epoch: 46 \tTraining Loss: 0.013723\n",
            "Epoch: 47 \tTraining Loss: 0.013542\n",
            "Epoch: 48 \tTraining Loss: 0.012779\n",
            "Epoch: 49 \tTraining Loss: 0.012850\n",
            "Epoch: 50 \tTraining Loss: 0.011909\n"
          ],
          "name": "stdout"
        }
      ]
    },
    {
      "cell_type": "markdown",
      "metadata": {
        "id": "--uonZJJ7c_l",
        "colab_type": "text"
      },
      "source": [
        "---\n",
        "## Test the Trained Network\n",
        "\n",
        "Finally, we test our best model on previously unseen **test data** and evaluate it's performance. Testing on unseen data is a good way to check that our model generalizes well. It may also be useful to be granular in this analysis and take a look at how this model performs on each class as well as looking at its overall loss and accuracy.\n",
        "\n",
        "#### `model.eval()`\n",
        "\n",
        "`model.eval(`) will set all the layers in your model to evaluation mode. This affects layers like dropout layers that turn \"off\" nodes during training with some probability, but should allow every node to be \"on\" for evaluation!"
      ]
    },
    {
      "cell_type": "code",
      "metadata": {
        "id": "cGMUMydM7d9T",
        "colab_type": "code",
        "colab": {
          "base_uri": "https://localhost:8080/",
          "height": 255
        },
        "outputId": "f006cafc-f5f2-4011-8775-d94fb5a243de"
      },
      "source": [
        "# initialize lists to monitor test loss and accuracy\n",
        "test_loss = 0.0\n",
        "class_correct = list(0. for i in range(10))\n",
        "class_total = list(0. for i in range(10))\n",
        "\n",
        "model.eval() # prep model for evaluation\n",
        "\n",
        "for images, labels in test_loader:\n",
        "  \n",
        "    images, labels = images.to(device), labels.to(device)\n",
        "    # forward pass: compute predicted outputs by passing inputs to the model\n",
        "    output = model(images)\n",
        "    # calculate the loss\n",
        "    loss = criterion(output, labels)\n",
        "    # update test loss \n",
        "    test_loss += loss.item()*images.size(0)\n",
        "    # convert output probabilities to predicted class\n",
        "    _, pred = torch.max(output, 1)\n",
        "    # compare predictions to true label\n",
        "    correct = np.squeeze(pred.eq(labels.data.view_as(pred)))\n",
        "    # calculate test accuracy for each object class\n",
        "    for i in range(len(labels)):\n",
        "        label = labels.data[i]\n",
        "        class_correct[label] += correct[i].item()\n",
        "        class_total[label] += 1\n",
        "\n",
        "# calculate and print avg test loss\n",
        "test_loss = test_loss/len(test_loader.dataset)\n",
        "print('Test Loss: {:.6f}\\n'.format(test_loss))\n",
        "\n",
        "for i in range(10):\n",
        "    if class_total[i] > 0:\n",
        "        print('Test Accuracy of %5s: %2d%% (%2d/%2d)' % (\n",
        "            str(i), 100 * class_correct[i] / class_total[i],\n",
        "            np.sum(class_correct[i]), np.sum(class_total[i])))\n",
        "    else:\n",
        "        print('Test Accuracy of %5s: N/A (no training examples)' % (classes[i]))\n",
        "\n",
        "print('\\nTest Accuracy (Overall): %2d%% (%2d/%2d)' % (\n",
        "    100. * np.sum(class_correct) / np.sum(class_total),\n",
        "    np.sum(class_correct), np.sum(class_total)))"
      ],
      "execution_count": 16,
      "outputs": [
        {
          "output_type": "stream",
          "text": [
            "Test Loss: 0.057307\n",
            "\n",
            "Test Accuracy of     0: 99% (972/980)\n",
            "Test Accuracy of     1: 99% (1127/1135)\n",
            "Test Accuracy of     2: 98% (1013/1032)\n",
            "Test Accuracy of     3: 98% (993/1010)\n",
            "Test Accuracy of     4: 98% (967/982)\n",
            "Test Accuracy of     5: 98% (880/892)\n",
            "Test Accuracy of     6: 98% (939/958)\n",
            "Test Accuracy of     7: 97% (1005/1028)\n",
            "Test Accuracy of     8: 97% (953/974)\n",
            "Test Accuracy of     9: 97% (987/1009)\n",
            "\n",
            "Test Accuracy (Overall): 98% (9836/10000)\n"
          ],
          "name": "stdout"
        }
      ]
    },
    {
      "cell_type": "markdown",
      "metadata": {
        "id": "Ibl-SAl09cIE",
        "colab_type": "text"
      },
      "source": [
        "### Visualize Sample Test Results\n",
        "\n",
        "This cell displays test images and their labels in this format: `predicted (ground-truth)`. The text will be green for accurately classified examples and red for incorrect predictions."
      ]
    },
    {
      "cell_type": "code",
      "metadata": {
        "id": "KeXcJ1-O9cx_",
        "colab_type": "code",
        "colab": {
          "base_uri": "https://localhost:8080/",
          "height": 288
        },
        "outputId": "ed495779-81ec-496d-b93d-d3cdcf2eb1b0"
      },
      "source": [
        "\n",
        "# obtain one batch of test images\n",
        "dataiter = iter(test_loader)\n",
        "images, labels = dataiter.next()\n",
        "\n",
        "images, labels = images.to(device), labels.to(device)\n",
        "\n",
        "# get sample outputs\n",
        "output = model(images)\n",
        "# convert output probabilities to predicted class\n",
        "_, preds = torch.max(output, 1)\n",
        "# prep images for display\n",
        "#images = images.cpu()\n",
        "#images = images.numpy()\n",
        "\n",
        "images = images.cpu().numpy()\n",
        "\n",
        "# plot the images in the batch, along with predicted and true labels\n",
        "fig = plt.figure(figsize=(25, 4))\n",
        "for idx in np.arange(20):\n",
        "    ax = fig.add_subplot(2, 20/2, idx+1, xticks=[], yticks=[])\n",
        "    ax.imshow(np.squeeze(images[idx]), cmap='gray')\n",
        "    ax.set_title(\"{} ({})\".format(str(preds[idx].item()), str(labels[idx].item())),\n",
        "                 color=(\"green\" if preds[idx]==labels[idx] else \"red\"))"
      ],
      "execution_count": 17,
      "outputs": [
        {
          "output_type": "display_data",
          "data": {
            "image/png": "[encoded data removed]",
            "text/plain": [
              "<Figure size 1800x288 with 20 Axes>"
            ]
          },
          "metadata": {
            "tags": []
          }
        }
      ]
    },
    {
      "cell_type": "markdown",
      "metadata": {
        "id": "hRpUouMN-Mzi",
        "colab_type": "text"
      },
      "source": [
        "<br>"
      ]
    },
    {
      "cell_type": "markdown",
      "metadata": {
        "id": "78azFIRl-Mvc",
        "colab_type": "text"
      },
      "source": [
        "<br><br><br><br><br><br>"
      ]
    },
    {
      "cell_type": "markdown",
      "metadata": {
        "id": "k0qOczBJ-rB6",
        "colab_type": "text"
      },
      "source": [
        "\n",
        "\n",
        " ##  Using three sets (train, validation and test set)"
      ]
    },
    {
      "cell_type": "code",
      "metadata": {
        "id": "aUvwG1eK-vqs",
        "colab_type": "code",
        "colab": {}
      },
      "source": [
        "from torchvision import datasets\n",
        "import torchvision.transforms as transforms\n",
        "from torch.utils.data.sampler import SubsetRandomSampler\n",
        "\n",
        "# number of subprocesses to use for data loading\n",
        "num_workers = 0\n",
        "# how many samples per batch to load\n",
        "batch_size = 20\n",
        "# percentage of training set to use as validation\n",
        "valid_size = 0.2\n",
        "\n",
        "# convert data to torch.FloatTensor\n",
        "transform = transforms.ToTensor()\n",
        "\n",
        "# choose the training and test datasets\n",
        "train_data = datasets.MNIST(root='data', train=True,\n",
        "                                   download=True, transform=transform)\n",
        "test_data = datasets.MNIST(root='data', train=False,\n",
        "                                  download=True, transform=transform)\n",
        "\n",
        "# obtain training indices that will be used for validation\n",
        "num_train = len(train_data)\n",
        "indices = list(range(num_train))\n",
        "np.random.shuffle(indices)\n",
        "split = int(np.floor(valid_size * num_train))\n",
        "train_idx, valid_idx = indices[split:], indices[:split]\n",
        "\n",
        "# define samplers for obtaining training and validation batches\n",
        "train_sampler = SubsetRandomSampler(train_idx)\n",
        "valid_sampler = SubsetRandomSampler(valid_idx)\n",
        "\n",
        "# prepare data loaders\n",
        "train_loader = torch.utils.data.DataLoader(train_data, batch_size=batch_size,\n",
        "    sampler=train_sampler, num_workers=num_workers)\n",
        "valid_loader = torch.utils.data.DataLoader(train_data, batch_size=batch_size, \n",
        "    sampler=valid_sampler, num_workers=num_workers)\n",
        "test_loader = torch.utils.data.DataLoader(test_data, batch_size=batch_size, \n",
        "    num_workers=num_workers)"
      ],
      "execution_count": 0,
      "outputs": []
    },
    {
      "cell_type": "code",
      "metadata": {
        "id": "bSmXC0bV_DjW",
        "colab_type": "code",
        "colab": {
          "base_uri": "https://localhost:8080/",
          "height": 119
        },
        "outputId": "17a8ea40-d3f2-4647-cb35-f2822608d2c4"
      },
      "source": [
        "\n",
        "import torch.nn as nn\n",
        "import torch.nn.functional as F\n",
        "\n",
        "# define the NN architecture\n",
        "class Net(nn.Module):\n",
        "    def __init__(self):\n",
        "        super(Net, self).__init__()\n",
        "        # number of hidden nodes in each layer (512)\n",
        "        hidden_1 = 512\n",
        "        hidden_2 = 512\n",
        "        # linear layer (784 -> hidden_1)\n",
        "        self.fc1 = nn.Linear(28 * 28, hidden_1)\n",
        "        # linear layer (n_hidden -> hidden_2)\n",
        "        self.fc2 = nn.Linear(hidden_1, hidden_2)\n",
        "        # linear layer (n_hidden -> 10)\n",
        "        self.fc3 = nn.Linear(hidden_2, 10)\n",
        "        # dropout layer (p=0.2)\n",
        "        # dropout prevents overfitting of data\n",
        "        self.dropout = nn.Dropout(0.2)\n",
        "\n",
        "    def forward(self, x):\n",
        "        # flatten image input\n",
        "        x = x.view(-1, 28 * 28)\n",
        "        # add hidden layer, with relu activation function\n",
        "        x = F.relu(self.fc1(x))\n",
        "        # add dropout layer\n",
        "        x = self.dropout(x)\n",
        "        # add hidden layer, with relu activation function\n",
        "        x = F.relu(self.fc2(x))\n",
        "        # add dropout layer\n",
        "        x = self.dropout(x)\n",
        "        # add output layer\n",
        "        x = self.fc3(x)\n",
        "        return x\n",
        "\n",
        "# initialize the NN\n",
        "model = Net()\n",
        "print(model)"
      ],
      "execution_count": 19,
      "outputs": [
        {
          "output_type": "stream",
          "text": [
            "Net(\n",
            "  (fc1): Linear(in_features=784, out_features=512, bias=True)\n",
            "  (fc2): Linear(in_features=512, out_features=512, bias=True)\n",
            "  (fc3): Linear(in_features=512, out_features=10, bias=True)\n",
            "  (dropout): Dropout(p=0.2)\n",
            ")\n"
          ],
          "name": "stdout"
        }
      ]
    },
    {
      "cell_type": "code",
      "metadata": {
        "id": "ehks0czf_LiG",
        "colab_type": "code",
        "colab": {}
      },
      "source": [
        "# specify loss function (categorical cross-entropy)\n",
        "criterion = nn.CrossEntropyLoss()\n",
        "\n",
        "# specify optimizer (stochastic gradient descent) and learning rate = 0.01\n",
        "optimizer = torch.optim.SGD(model.parameters(), lr=0.01)"
      ],
      "execution_count": 0,
      "outputs": []
    },
    {
      "cell_type": "code",
      "metadata": {
        "id": "n0MV35Yt_OpP",
        "colab_type": "code",
        "colab": {
          "base_uri": "https://localhost:8080/",
          "height": 1000
        },
        "outputId": "a6799eae-d148-4d0d-9310-843e625a4a41"
      },
      "source": [
        "### Training the network \n",
        "\n",
        "# number of epochs to train the model\n",
        "n_epochs = 50\n",
        "\n",
        "# initialize tracker for minimum validation loss\n",
        "valid_loss_min = np.Inf # set initial \"min\" to infinity\n",
        "\n",
        "#use GPU if it's available\n",
        "device = torch.device(\"cuda\" if torch.cuda.is_available() else \"cpu\")\n",
        "model.to(device)\n",
        "\n",
        "for epoch in range(n_epochs):\n",
        "    # monitor training loss\n",
        "    train_loss = 0.0\n",
        "    valid_loss = 0.0\n",
        "    \n",
        "    ###################\n",
        "    # train the model #\n",
        "    ###################\n",
        "    model.train() # prep model for training\n",
        "    for data, target in train_loader:\n",
        "        data, target = data.to(device), target.to(device)\n",
        "        # clear the gradients of all optimized variables\n",
        "        optimizer.zero_grad()\n",
        "        # forward pass: compute predicted outputs by passing inputs to the model\n",
        "        output = model(data)\n",
        "        # calculate the loss\n",
        "        loss = criterion(output, target)\n",
        "        # backward pass: compute gradient of the loss with respect to model parameters\n",
        "        loss.backward()\n",
        "        # perform a single optimization step (parameter update)\n",
        "        optimizer.step()\n",
        "        # update running training loss\n",
        "        train_loss += loss.item()*data.size(0)\n",
        "        \n",
        "    ######################    \n",
        "    # validate the model #\n",
        "    ######################\n",
        "    model.eval() # prep model for evaluation\n",
        "    for data, target in valid_loader:\n",
        "      # moving the data to device\n",
        "        data, target = data.to(device), target.to(device)\n",
        "        # forward pass: compute predicted outputs by passing inputs to the model\n",
        "        output = model(data)\n",
        "        # calculate the loss\n",
        "        loss = criterion(output, target)\n",
        "        # update running validation loss \n",
        "        valid_loss += loss.item()*data.size(0)\n",
        "        \n",
        "    # print training/validation statistics \n",
        "    # calculate average loss over an epoch\n",
        "    train_loss = train_loss/len(train_loader.dataset)\n",
        "    valid_loss = valid_loss/len(valid_loader.dataset)\n",
        "    \n",
        "    print('Epoch: {} \\tTraining Loss: {:.6f} \\tValidation Loss: {:.6f}'.format(\n",
        "        epoch+1, \n",
        "        train_loss,\n",
        "        valid_loss\n",
        "        ))\n",
        "    \n",
        "    # save model if validation loss has decreased\n",
        "    if valid_loss <= valid_loss_min:\n",
        "        print('Validation loss decreased ({:.6f} --> {:.6f}).  Saving model ...'.format(\n",
        "        valid_loss_min,\n",
        "        valid_loss))\n",
        "        torch.save(model.state_dict(), 'model.pt')\n",
        "        valid_loss_min = valid_loss\n"
      ],
      "execution_count": 21,
      "outputs": [
        {
          "output_type": "stream",
          "text": [
            "Epoch: 1 \tTraining Loss: 0.747247 \tValidation Loss: 0.075789\n",
            "Validation loss decreased (inf --> 0.075789).  Saving model ...\n",
            "Epoch: 2 \tTraining Loss: 0.284167 \tValidation Loss: 0.057750\n",
            "Validation loss decreased (0.075789 --> 0.057750).  Saving model ...\n",
            "Epoch: 3 \tTraining Loss: 0.225728 \tValidation Loss: 0.047435\n",
            "Validation loss decreased (0.057750 --> 0.047435).  Saving model ...\n",
            "Epoch: 4 \tTraining Loss: 0.184248 \tValidation Loss: 0.040345\n",
            "Validation loss decreased (0.047435 --> 0.040345).  Saving model ...\n",
            "Epoch: 5 \tTraining Loss: 0.158262 \tValidation Loss: 0.035106\n",
            "Validation loss decreased (0.040345 --> 0.035106).  Saving model ...\n",
            "Epoch: 6 \tTraining Loss: 0.136189 \tValidation Loss: 0.031667\n",
            "Validation loss decreased (0.035106 --> 0.031667).  Saving model ...\n",
            "Epoch: 7 \tTraining Loss: 0.120394 \tValidation Loss: 0.029262\n",
            "Validation loss decreased (0.031667 --> 0.029262).  Saving model ...\n",
            "Epoch: 8 \tTraining Loss: 0.108101 \tValidation Loss: 0.026385\n",
            "Validation loss decreased (0.029262 --> 0.026385).  Saving model ...\n",
            "Epoch: 9 \tTraining Loss: 0.097556 \tValidation Loss: 0.024636\n",
            "Validation loss decreased (0.026385 --> 0.024636).  Saving model ...\n",
            "Epoch: 10 \tTraining Loss: 0.089860 \tValidation Loss: 0.022861\n",
            "Validation loss decreased (0.024636 --> 0.022861).  Saving model ...\n",
            "Epoch: 11 \tTraining Loss: 0.082542 \tValidation Loss: 0.021572\n",
            "Validation loss decreased (0.022861 --> 0.021572).  Saving model ...\n",
            "Epoch: 12 \tTraining Loss: 0.074250 \tValidation Loss: 0.020707\n",
            "Validation loss decreased (0.021572 --> 0.020707).  Saving model ...\n",
            "Epoch: 13 \tTraining Loss: 0.067172 \tValidation Loss: 0.019619\n",
            "Validation loss decreased (0.020707 --> 0.019619).  Saving model ...\n",
            "Epoch: 14 \tTraining Loss: 0.064529 \tValidation Loss: 0.018751\n",
            "Validation loss decreased (0.019619 --> 0.018751).  Saving model ...\n",
            "Epoch: 15 \tTraining Loss: 0.059675 \tValidation Loss: 0.017717\n",
            "Validation loss decreased (0.018751 --> 0.017717).  Saving model ...\n",
            "Epoch: 16 \tTraining Loss: 0.056130 \tValidation Loss: 0.017227\n",
            "Validation loss decreased (0.017717 --> 0.017227).  Saving model ...\n",
            "Epoch: 17 \tTraining Loss: 0.052553 \tValidation Loss: 0.016818\n",
            "Validation loss decreased (0.017227 --> 0.016818).  Saving model ...\n",
            "Epoch: 18 \tTraining Loss: 0.050089 \tValidation Loss: 0.016642\n",
            "Validation loss decreased (0.016818 --> 0.016642).  Saving model ...\n",
            "Epoch: 19 \tTraining Loss: 0.046102 \tValidation Loss: 0.016056\n",
            "Validation loss decreased (0.016642 --> 0.016056).  Saving model ...\n",
            "Epoch: 20 \tTraining Loss: 0.043607 \tValidation Loss: 0.016286\n",
            "Epoch: 21 \tTraining Loss: 0.041164 \tValidation Loss: 0.015741\n",
            "Validation loss decreased (0.016056 --> 0.015741).  Saving model ...\n",
            "Epoch: 22 \tTraining Loss: 0.038925 \tValidation Loss: 0.015741\n",
            "Epoch: 23 \tTraining Loss: 0.036088 \tValidation Loss: 0.015178\n",
            "Validation loss decreased (0.015741 --> 0.015178).  Saving model ...\n",
            "Epoch: 24 \tTraining Loss: 0.035447 \tValidation Loss: 0.014781\n",
            "Validation loss decreased (0.015178 --> 0.014781).  Saving model ...\n",
            "Epoch: 25 \tTraining Loss: 0.033134 \tValidation Loss: 0.014550\n",
            "Validation loss decreased (0.014781 --> 0.014550).  Saving model ...\n",
            "Epoch: 26 \tTraining Loss: 0.031522 \tValidation Loss: 0.014575\n",
            "Epoch: 27 \tTraining Loss: 0.029762 \tValidation Loss: 0.014553\n",
            "Epoch: 28 \tTraining Loss: 0.027122 \tValidation Loss: 0.014222\n",
            "Validation loss decreased (0.014550 --> 0.014222).  Saving model ...\n",
            "Epoch: 29 \tTraining Loss: 0.026612 \tValidation Loss: 0.014195\n",
            "Validation loss decreased (0.014222 --> 0.014195).  Saving model ...\n",
            "Epoch: 30 \tTraining Loss: 0.025699 \tValidation Loss: 0.014140\n",
            "Validation loss decreased (0.014195 --> 0.014140).  Saving model ...\n",
            "Epoch: 31 \tTraining Loss: 0.023625 \tValidation Loss: 0.014257\n",
            "Epoch: 32 \tTraining Loss: 0.022743 \tValidation Loss: 0.013944\n",
            "Validation loss decreased (0.014140 --> 0.013944).  Saving model ...\n",
            "Epoch: 33 \tTraining Loss: 0.021823 \tValidation Loss: 0.013900\n",
            "Validation loss decreased (0.013944 --> 0.013900).  Saving model ...\n",
            "Epoch: 34 \tTraining Loss: 0.020026 \tValidation Loss: 0.013773\n",
            "Validation loss decreased (0.013900 --> 0.013773).  Saving model ...\n",
            "Epoch: 35 \tTraining Loss: 0.020311 \tValidation Loss: 0.013678\n",
            "Validation loss decreased (0.013773 --> 0.013678).  Saving model ...\n",
            "Epoch: 36 \tTraining Loss: 0.018032 \tValidation Loss: 0.013658\n",
            "Validation loss decreased (0.013678 --> 0.013658).  Saving model ...\n",
            "Epoch: 37 \tTraining Loss: 0.017840 \tValidation Loss: 0.013535\n",
            "Validation loss decreased (0.013658 --> 0.013535).  Saving model ...\n",
            "Epoch: 38 \tTraining Loss: 0.017678 \tValidation Loss: 0.013418\n",
            "Validation loss decreased (0.013535 --> 0.013418).  Saving model ...\n",
            "Epoch: 39 \tTraining Loss: 0.016796 \tValidation Loss: 0.013792\n",
            "Epoch: 40 \tTraining Loss: 0.015834 \tValidation Loss: 0.013694\n",
            "Epoch: 41 \tTraining Loss: 0.015803 \tValidation Loss: 0.013477\n",
            "Epoch: 42 \tTraining Loss: 0.014636 \tValidation Loss: 0.013516\n",
            "Epoch: 43 \tTraining Loss: 0.013359 \tValidation Loss: 0.013447\n",
            "Epoch: 44 \tTraining Loss: 0.013009 \tValidation Loss: 0.013510\n",
            "Epoch: 45 \tTraining Loss: 0.013149 \tValidation Loss: 0.013430\n",
            "Epoch: 46 \tTraining Loss: 0.012228 \tValidation Loss: 0.013494\n",
            "Epoch: 47 \tTraining Loss: 0.012275 \tValidation Loss: 0.013197\n",
            "Validation loss decreased (0.013418 --> 0.013197).  Saving model ...\n",
            "Epoch: 48 \tTraining Loss: 0.011110 \tValidation Loss: 0.013552\n",
            "Epoch: 49 \tTraining Loss: 0.011073 \tValidation Loss: 0.013385\n",
            "Epoch: 50 \tTraining Loss: 0.010781 \tValidation Loss: 0.013330\n"
          ],
          "name": "stdout"
        }
      ]
    },
    {
      "cell_type": "markdown",
      "metadata": {
        "id": "Q4XrWX7hBJPc",
        "colab_type": "text"
      },
      "source": [
        "<b>Load the Model with the Lowest Validation Loss</b>\n"
      ]
    },
    {
      "cell_type": "code",
      "metadata": {
        "id": "CbbcqyVHBOlM",
        "colab_type": "code",
        "colab": {}
      },
      "source": [
        "# you can check the parameters of model using state_dict method\n",
        "# model.state_dict()"
      ],
      "execution_count": 0,
      "outputs": []
    },
    {
      "cell_type": "code",
      "metadata": {
        "id": "7C4ki5gFBSi5",
        "colab_type": "code",
        "colab": {
          "base_uri": "https://localhost:8080/",
          "height": 34
        },
        "outputId": "077865db-33b6-49a7-ee92-53bdada09704"
      },
      "source": [
        "# Load the Model with the Lowest Validation Loss\n",
        "\n",
        "model.load_state_dict(torch.load('model.pt'))"
      ],
      "execution_count": 23,
      "outputs": [
        {
          "output_type": "execute_result",
          "data": {
            "text/plain": [
              "IncompatibleKeys(missing_keys=[], unexpected_keys=[])"
            ]
          },
          "metadata": {
            "tags": []
          },
          "execution_count": 23
        }
      ]
    },
    {
      "cell_type": "code",
      "metadata": {
        "id": "DpeGBnr8BcCv",
        "colab_type": "code",
        "colab": {
          "base_uri": "https://localhost:8080/",
          "height": 255
        },
        "outputId": "19d42fbd-d80c-49fd-f645-c76f388f77ec"
      },
      "source": [
        "# initialize lists to monitor test loss and accuracy\n",
        "test_loss = 0.0\n",
        "class_correct = list(0. for i in range(10))\n",
        "class_total = list(0. for i in range(10))\n",
        "\n",
        "model.eval() # prep model for evaluation\n",
        "\n",
        "for data, target in test_loader:\n",
        "    data, target = data.to(device), target.to(device)\n",
        "\n",
        "    # forward pass: compute predicted outputs by passing inputs to the model\n",
        "    output = model(data)\n",
        "    # calculate the loss\n",
        "    loss = criterion(output, target)\n",
        "    # update test loss \n",
        "    test_loss += loss.item()*data.size(0)\n",
        "    # convert output probabilities to predicted class\n",
        "    _, pred = torch.max(output, 1)\n",
        "    # compare predictions to true label\n",
        "    correct = np.squeeze(pred.eq(target.data.view_as(pred)))\n",
        "    # calculate test accuracy for each object class\n",
        "    for i in range(len(target)):\n",
        "        label = target.data[i]\n",
        "        class_correct[label] += correct[i].item()\n",
        "        class_total[label] += 1\n",
        "\n",
        "# calculate and print avg test loss\n",
        "test_loss = test_loss/len(test_loader.dataset)\n",
        "print('Test Loss: {:.6f}\\n'.format(test_loss))\n",
        "\n",
        "for i in range(10):\n",
        "    if class_total[i] > 0:\n",
        "        print('Test Accuracy of %5s: %2d%% (%2d/%2d)' % (\n",
        "            str(i), 100 * class_correct[i] / class_total[i],\n",
        "            np.sum(class_correct[i]), np.sum(class_total[i])))\n",
        "    else:\n",
        "        print('Test Accuracy of %5s: N/A (no training examples)' % (classes[i]))\n",
        "\n",
        "print('\\nTest Accuracy (Overall): %2d%% (%2d/%2d)' % (\n",
        "    100. * np.sum(class_correct) / np.sum(class_total),\n",
        "    np.sum(class_correct), np.sum(class_total)))\n"
      ],
      "execution_count": 24,
      "outputs": [
        {
          "output_type": "stream",
          "text": [
            "Test Loss: 0.057711\n",
            "\n",
            "Test Accuracy of     0: 99% (971/980)\n",
            "Test Accuracy of     1: 99% (1127/1135)\n",
            "Test Accuracy of     2: 98% (1014/1032)\n",
            "Test Accuracy of     3: 98% (996/1010)\n",
            "Test Accuracy of     4: 97% (962/982)\n",
            "Test Accuracy of     5: 98% (877/892)\n",
            "Test Accuracy of     6: 98% (940/958)\n",
            "Test Accuracy of     7: 97% (1004/1028)\n",
            "Test Accuracy of     8: 96% (943/974)\n",
            "Test Accuracy of     9: 97% (987/1009)\n",
            "\n",
            "Test Accuracy (Overall): 98% (9821/10000)\n"
          ],
          "name": "stdout"
        }
      ]
    },
    {
      "cell_type": "code",
      "metadata": {
        "id": "X52jqsz9BdaB",
        "colab_type": "code",
        "colab": {
          "base_uri": "https://localhost:8080/",
          "height": 288
        },
        "outputId": "caa7da63-c56b-449e-f4a5-8fb6f4874d9c"
      },
      "source": [
        "# obtain one batch of test images\n",
        "dataiter = iter(test_loader)\n",
        "images, labels = dataiter.next()\n",
        "images, labels = images.to(device), labels.to(device)\n",
        "\n",
        "\n",
        "# get sample outputs\n",
        "output = model(images)\n",
        "# convert output probabilities to predicted class\n",
        "_, preds = torch.max(output, 1)\n",
        "# prep images for display\n",
        "images = images.cpu().numpy()\n",
        "\n",
        "# plot the images in the batch, along with predicted and true labels\n",
        "fig = plt.figure(figsize=(25, 4))\n",
        "for idx in np.arange(20):\n",
        "    ax = fig.add_subplot(2, 20/2, idx+1, xticks=[], yticks=[])\n",
        "    ax.imshow(np.squeeze(images[idx]), cmap='gray')\n",
        "    ax.set_title(\"{} ({})\".format(str(preds[idx].item()), str(labels[idx].item())),\n",
        "                 color=(\"green\" if preds[idx]==labels[idx] else \"red\"))\n"
      ],
      "execution_count": 25,
      "outputs": [
        {
          "output_type": "display_data",
          "data": {
            "image/png": "[encoded data removed]",
            "text/plain": [
              "<Figure size 1800x288 with 20 Axes>"
            ]
          },
          "metadata": {
            "tags": []
          }
        }
      ]
    },
    {
      "cell_type": "code",
      "metadata": {
        "id": "syPRro7IBsbH",
        "colab_type": "code",
        "colab": {}
      },
      "source": [
        ""
      ],
      "execution_count": 0,
      "outputs": []
    }
  ]
}